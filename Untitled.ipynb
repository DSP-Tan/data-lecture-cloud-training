{
 "cells": [
  {
   "cell_type": "code",
   "execution_count": 1,
   "id": "75af54fb",
   "metadata": {},
   "outputs": [],
   "source": [
    "import os\n",
    "from google.cloud import storage\n",
    "\n",
    "BUCKET_NAME =os.environ[\"BUCKET_NAME\"]\n",
    "\n",
    "local_filename = \"requirements.txt\"\n",
    "\n",
    "client = storage.Client()\n",
    "bucket = client.bucket(BUCKET_NAME)\n",
    "blob = bucket.blob(local_filename)\n",
    "blob.upload_from_filename(local_filename)\n"
   ]
  },
  {
   "cell_type": "code",
   "execution_count": 7,
   "id": "cb6c04ef",
   "metadata": {},
   "outputs": [
    {
     "name": "stdout",
     "output_type": "stream",
     "text": [
      "   3965942  2022-09-28T19:29:45Z  gs://wagon-data-1234-tanner/Passport.jpg\r\n",
      "     51785  2022-11-21T19:48:44Z  gs://wagon-data-1234-tanner/bananna_duck.jpg\r\n",
      "       467  2022-11-21T20:20:51Z  gs://wagon-data-1234-tanner/requirements.txt\r\n",
      "                                 gs://wagon-data-1234-tanner/data/\r\n",
      "                                 gs://wagon-data-1234-tanner/models/\r\n",
      "                                 gs://wagon-data-1234-tanner/trainings/\r\n",
      "TOTAL: 3 objects, 4018194 bytes (3.83 MiB)\r\n"
     ]
    }
   ],
   "source": [
    "! gsutil ls -l gs://wagon-data-1234-tanner/"
   ]
  },
  {
   "cell_type": "code",
   "execution_count": null,
   "id": "c5ff73e4",
   "metadata": {},
   "outputs": [],
   "source": []
  }
 ],
 "metadata": {
  "kernelspec": {
   "display_name": "Python 3 (ipykernel)",
   "language": "python",
   "name": "python3"
  },
  "language_info": {
   "codemirror_mode": {
    "name": "ipython",
    "version": 3
   },
   "file_extension": ".py",
   "mimetype": "text/x-python",
   "name": "python",
   "nbconvert_exporter": "python",
   "pygments_lexer": "ipython3",
   "version": "3.8.12"
  },
  "toc": {
   "base_numbering": 1,
   "nav_menu": {},
   "number_sections": true,
   "sideBar": true,
   "skip_h1_title": false,
   "title_cell": "Table of Contents",
   "title_sidebar": "Contents",
   "toc_cell": false,
   "toc_position": {},
   "toc_section_display": true,
   "toc_window_display": false
  }
 },
 "nbformat": 4,
 "nbformat_minor": 5
}
